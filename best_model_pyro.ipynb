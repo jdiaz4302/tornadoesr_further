{
 "cells": [
  {
   "cell_type": "code",
   "execution_count": 1,
   "metadata": {},
   "outputs": [],
   "source": [
    "# Packages\n",
    "import pandas as pd\n",
    "import torch\n",
    "from torch.autograd import Variable\n",
    "import numpy as np\n",
    "import matplotlib\n",
    "import matplotlib.pyplot as plt\n",
    "plt.style.use('seaborn-whitegrid')\n",
    "%matplotlib inline\n",
    "import pylab\n",
    "import math\n",
    "pylab.rcParams['figure.figsize'] = (8.25, 6)"
   ]
  },
  {
   "cell_type": "code",
   "execution_count": 2,
   "metadata": {},
   "outputs": [],
   "source": [
    "# Import data\n",
    "tor_df = pd.read_csv(\"../tornadoesr/data/raw/tor_train_set_no_zeros.csv\")\n",
    "\n",
    "# Seperating variables\n",
    "# The outcomes\n",
    "tornado_outcome = tor_df.iloc[:, [2]]\n",
    "\n",
    "# The predictors\n",
    "tornado_predictors = tor_df.iloc[:, 3:]"
   ]
  },
  {
   "cell_type": "code",
   "execution_count": 3,
   "metadata": {},
   "outputs": [],
   "source": [
    "tor_data = tor_df.iloc[:, 2:].values\n",
    "tor_data = Variable(torch.from_numpy(tor_data).type(torch.FloatTensor))"
   ]
  },
  {
   "cell_type": "code",
   "execution_count": 4,
   "metadata": {},
   "outputs": [],
   "source": [
    "# Define the neural network\n",
    "class BestNN(torch.nn.Module):\n",
    "    \n",
    "    def __init__(self):\n",
    "        super(BestNN, self).__init__()\n",
    "        self.fc1 = torch.nn.Linear(tornado_predictors.shape[1], 50)\n",
    "        self.fc2 = torch.nn.Linear(50, 50)\n",
    "        self.fc3 = torch.nn.Linear(50, 1)\n",
    "        \n",
    "    def forward(self, x):\n",
    "        x = torch.nn.functional.relu(self.fc1(x))\n",
    "        x = torch.nn.functional.relu(self.fc2(x))\n",
    "        x = self.fc3(x)\n",
    "        return(x)\n",
    "\n",
    "\n",
    "# Make it\n",
    "bestnn = BestNN()"
   ]
  },
  {
   "cell_type": "code",
   "execution_count": 5,
   "metadata": {},
   "outputs": [],
   "source": [
    "import pyro\n",
    "from pyro.distributions import Normal, LogNormal, Pareto\n",
    "from pyro.optim import Adam\n",
    "from pyro.infer import SVI, Trace_ELBO"
   ]
  },
  {
   "cell_type": "markdown",
   "metadata": {},
   "source": [
    "# Normal Distribution Priors"
   ]
  },
  {
   "cell_type": "code",
   "execution_count": 6,
   "metadata": {},
   "outputs": [],
   "source": [
    "def model(data):\n",
    "    \n",
    "    \n",
    "    # First layer\n",
    "    #    We have 51 input variables that go to 50 hidden units (51*50)\n",
    "    weights_scale_first, weights_alpha_first = (0 * torch.ones(1, tornado_predictors.shape[1]*50),\n",
    "                                                (1 * torch.ones(1, tornado_predictors.shape[1]*50)))\n",
    "    #    We have 1 intercept per hidden unit (1*50)\n",
    "    bias_scale_first, bias_alpha_first = (0 * torch.ones(1, 1*50),\n",
    "                                          (1 * torch.ones(1, 1*50)))\n",
    "    \n",
    "    # Second layer\n",
    "    #    We have 50 hidden activations that go to 1 output unit\n",
    "    weights_scale_second, weights_alpha_second = (0 * torch.ones(1, 50*50),\n",
    "                                                  (1 * torch.ones(1, 50*50)))\n",
    "    #    We have 1 intercept per output unit (1)\n",
    "    bias_scale_second, bias_alpha_second = (0 * torch.ones(1, 50*1),\n",
    "                                            1 * torch.ones(1, 50*1))\n",
    "    \n",
    "    # Third layer\n",
    "    #    We have 50 hidden activations that go to 1 output unit\n",
    "    weights_scale_third, weights_alpha_third = (0 * torch.ones(1, 1*50),\n",
    "                                                  (1 * torch.ones(1, 1*50)))\n",
    "    #    We have 1 intercept per output unit (1)\n",
    "    bias_scale_third, bias_alpha_third = (0 * torch.ones(1, 1*1),\n",
    "                                            1 * torch.ones(1, 1*1))\n",
    "    \n",
    "    \n",
    "    # For the first layer\n",
    "    #    Creating and assigning the prior distributions for the weights\n",
    "    w_priors_first = Normal(weights_scale_first, weights_alpha_first).independent(1)\n",
    "    #    Creating and assigning the prior distribution for the intercepts\n",
    "    b_prior_first = Normal(bias_scale_first, bias_alpha_first).independent(1)\n",
    "    \n",
    "    # For the second layer\n",
    "    #    Creating and assiging the prior distributions for the weights\n",
    "    w_priors_second = Normal(weights_scale_second, weights_alpha_second).independent(1)\n",
    "    #    Creating and assigning the prior distribution for the intercepts\n",
    "    b_prior_second = Normal(bias_scale_second, bias_alpha_second).independent(1)\n",
    "    \n",
    "    # For the third layer\n",
    "    #    Creating and assiging the prior distributions for the weights\n",
    "    w_priors_third = Normal(weights_scale_third, weights_alpha_third).independent(1)\n",
    "    #    Creating and assigning the prior distribution for the intercepts\n",
    "    b_prior_third = Normal(bias_scale_third, bias_alpha_third).independent(1)\n",
    "    \n",
    "    \n",
    "    # Putting those into a dictionary\n",
    "    priors = {'linear.weights_first': w_priors_first,\n",
    "              'linear.bias_first': b_prior_first,\n",
    "              'linear.weights_second': w_priors_second,\n",
    "              'linear.bias_second': b_prior_second,\n",
    "              'linear.weights_third': w_priors_third,\n",
    "              'linear.bias_third': b_prior_third}\n",
    "    \n",
    "    \n",
    "    # lift module parameters to random variables sampled from the priors\n",
    "    # This is like creating the nn.Module (analogy to PyTorch)\n",
    "    lifted_module = pyro.random_module(\"module\", bestnn, priors)\n",
    "    # sample a regressor (which also samples w and b)\n",
    "    # This is like calling the nn.Module (analogy to PyTorch)\n",
    "    lifted_nn_model = lifted_module()\n",
    "    \n",
    "    \n",
    "    with pyro.iarange(\"map\", 51):\n",
    "        x_data = tor_data[:, 1:]\n",
    "        y_data = tor_data[:, 0]\n",
    "\n",
    "        # run the regressor forward conditioned on data\n",
    "        prediction_mean = lifted_nn_model(x_data).squeeze(-1)\n",
    "        \n",
    "        # condition on the observed data\n",
    "        pyro.sample(\"obs\",\n",
    "                    Normal(prediction_mean, 0.1 * torch.ones(data.size(0))),\n",
    "                    obs=y_data)"
   ]
  },
  {
   "cell_type": "markdown",
   "metadata": {},
   "source": [
    "Inspect the following chunk, I'm suspicious of the \"sig_n\" parameters because they seems to be providing a 2nd parameter to the distributions which is likely messing up my Pareto/LogNormal distributions."
   ]
  },
  {
   "cell_type": "code",
   "execution_count": 7,
   "metadata": {},
   "outputs": [],
   "source": [
    "softplus = torch.nn.Softplus()\n",
    "tanh = torch.nn.Tanh()\n",
    "\n",
    "def guide(data):\n",
    "    \n",
    "    \n",
    "    # First layer\n",
    "    #     The weights\n",
    "    w_scales_first = torch.randn(1, tornado_predictors.shape[1]*50)\n",
    "    w_log_sigs_first = torch.tensor(-3.0 * torch.ones(1, tornado_predictors.shape[1]*50) + 0.05 * torch.randn(1, tornado_predictors.shape[1]*50))\n",
    "    #     The intercepts \n",
    "    b_scale_first = torch.randn(1, 1*50)\n",
    "    b_log_sig_first = torch.tensor(-3.0 * torch.ones(1, 1*50) + 0.05 * torch.randn(1, 1*50))\n",
    "    \n",
    "    # Second layer\n",
    "    #     The weights\n",
    "    w_scales_second = torch.randn(1, 50*50)\n",
    "    w_log_sigs_second = torch.tensor(-3.0 * torch.ones(1, 50*50) + 0.05 * torch.randn(1, 50*50))\n",
    "    #     The intercepts \n",
    "    b_scale_second = torch.randn(1, 1*50)\n",
    "    b_log_sig_second = torch.tensor(-3.0 * torch.ones(1, 1*50) + 0.05 * torch.randn(1, 1*50))\n",
    "    \n",
    "    # Third layer\n",
    "    #     The weights\n",
    "    w_scales_third = torch.randn(1, 50*1)\n",
    "    w_log_sigs_third = torch.tensor(-3.0 * torch.ones(1, 50*1) + 0.05 * torch.randn(1, 50*1))\n",
    "    #     The intercepts \n",
    "    b_scale_third = torch.randn(1, 1*1)\n",
    "    b_log_sig_third = torch.tensor(-3.0 * torch.ones(1, 1*1) + 0.05 * torch.randn(1, 1*1))\n",
    "    \n",
    "    \n",
    "    # Register learnable params in the param store\n",
    "    # First layer\n",
    "    #    The weights\n",
    "    mw_params_first = pyro.param(\"guide_mean_weights_first\", w_scales_first)\n",
    "    sw_params_first = softplus(pyro.param(\"guide_log_alpha_weights_first\", w_log_sigs_first))\n",
    "    #    The intercepts\n",
    "    mb_param_first = pyro.param(\"guide_mean_bias_first\", b_scale_first)\n",
    "    sb_param_first = softplus(pyro.param(\"guide_log_alpha_bias_first\", b_log_sig_first))\n",
    "    \n",
    "    # Second layer\n",
    "    #    The weights\n",
    "    mw_params_second = pyro.param(\"guide_mean_weights_second\", w_scales_second)\n",
    "    sw_params_second = softplus(pyro.param(\"guide_log_alpha_weights_second\", w_log_sigs_second))\n",
    "    #    The intercepts\n",
    "    mb_param_second = pyro.param(\"guide_mean_bias_second\", b_scale_second)\n",
    "    sb_param_second = softplus(pyro.param(\"guide_log_alpha_bias_second\", b_log_sig_second))\n",
    "    \n",
    "    # Third layer\n",
    "    #    The weights\n",
    "    mw_params_third = pyro.param(\"guide_mean_weights_third\", w_scales_third)\n",
    "    sw_params_third = tanh(pyro.param(\"guide_log_weights_third\", w_log_sigs_third))\n",
    "    #    The intercepts\n",
    "    mb_param_third = pyro.param(\"guide_mean_bias_third\", b_scale_third)\n",
    "    sb_param_third = tanh(pyro.param(\"guide_log_alpha-bias_second\", b_log_sig_third))\n",
    "    \n",
    "    \n",
    "    # guide distributions for w and b\n",
    "    # First layer\n",
    "    w_dists_first = Normal(mw_params_first, sw_params_first).independent(1)\n",
    "    b_dist_first = Normal(mb_param_first, sb_param_first).independent(1)\n",
    "    # Second layer\n",
    "    w_dists_second = Normal(mw_params_second, sw_params_second).independent(1)\n",
    "    b_dist_second = Normal(mb_param_second, sb_param_second).independent(1)\n",
    "    # Third layer\n",
    "    w_dists_third = Normal(mw_params_third, sw_params_third).independent(1)\n",
    "    b_dist_third = Normal(mb_param_third, sb_param_third).independent(1)\n",
    "    dists = {'linear.weights_first': w_dists_first,\n",
    "             'linear.bias_first': b_dist_first,\n",
    "             'linear.weights_second': w_dists_second,\n",
    "             'linear.bias_second': b_dist_second,\n",
    "             'linear.weights_third': w_dists_third,\n",
    "             'linear.bias_second': b_dist_third}\n",
    "    \n",
    "    \n",
    "    # overload the parameters in the module with random samples\n",
    "    # from the guide distributions\n",
    "    lifted_module = pyro.random_module(\"module\", bestnn, dists)\n",
    "    # sample a regressor (which also samples w and b)\n",
    "    return lifted_module()"
   ]
  },
  {
   "cell_type": "code",
   "execution_count": 8,
   "metadata": {},
   "outputs": [],
   "source": [
    "optim = Adam({\"weight_decay\": 1000})\n",
    "svi = SVI(model, guide, optim, loss=Trace_ELBO())"
   ]
  },
  {
   "cell_type": "code",
   "execution_count": 9,
   "metadata": {},
   "outputs": [
    {
     "name": "stdout",
     "output_type": "stream",
     "text": [
      "[iteration 1.000000] loss: 4146.2721\n",
      "[iteration 251.000000] loss: 560.0843\n",
      "[iteration 501.000000] loss: 479.5765\n",
      "[iteration 751.000000] loss: 413.2050\n"
     ]
    }
   ],
   "source": [
    "num_iterations = 1000\n",
    "N = (tor_data.shape[1] - 1)\n",
    "\n",
    "def main():\n",
    "    pyro.clear_param_store()\n",
    "    data_x = tornado_predictors\n",
    "    data_y = tornado_outcome\n",
    "    for j in range(num_iterations):\n",
    "        # calculate the loss and take a gradient step\n",
    "        loss = svi.step(tor_data)\n",
    "        if (j) % 250 == 0:\n",
    "            print(\"[iteration %04f] loss: %.4f\" % ((j+1), loss / float(N)))\n",
    "\n",
    "if __name__ == '__main__':\n",
    "    main()"
   ]
  },
  {
   "cell_type": "code",
   "execution_count": 10,
   "metadata": {},
   "outputs": [
    {
     "name": "stdout",
     "output_type": "stream",
     "text": [
      "Loss:  0.07157570123672485\n"
     ]
    }
   ],
   "source": [
    "# Import train data\n",
    "train_df = pd.read_csv(\"../tornadoesr/data/raw/tor_train_set_no_zeros.csv\")\n",
    "\n",
    "# Partition the data\n",
    "train_outcome = train_df.iloc[:, [2]].values\n",
    "train_predictors = train_df.iloc[:, 3:].values\n",
    "\n",
    "# Set it up\n",
    "y_data = Variable(torch.from_numpy(train_outcome).type(torch.FloatTensor))\n",
    "x_data = Variable(torch.from_numpy(train_predictors).type(torch.FloatTensor))\n",
    "\n",
    "# Before evaluating\n",
    "loss = torch.nn.MSELoss()\n",
    "y_preds = torch.zeros(x_data.shape[0], 1)\n",
    "\n",
    "stored_preds = np.zeros((100, y_data.shape[0]))\n",
    "\n",
    "# Evaluating\n",
    "num_samples_of_param = 100\n",
    "for i in range(num_samples_of_param):\n",
    "    # guide does not require the data\n",
    "    sampled_reg_model = guide(None)\n",
    "    \n",
    "    # run the regression model and add prediction to total\n",
    "    current_y_preds = sampled_reg_model(x_data)\n",
    "    y_preds = y_preds + current_y_preds\n",
    "    \n",
    "    stored_preds[i, :] = current_y_preds.squeeze().data.numpy()\n",
    "    \n",
    "# take the average of the predictions\n",
    "y_preds = y_preds / num_samples_of_param\n",
    "print (\"Loss: \", loss(y_preds, y_data).item())"
   ]
  },
  {
   "cell_type": "code",
   "execution_count": 11,
   "metadata": {},
   "outputs": [
    {
     "data": {
      "image/png": "[encoded data removed]",
      "text/plain": [
       "<matplotlib.figure.Figure at 0x7f9c82bdf0b8>"
      ]
     },
     "metadata": {},
     "output_type": "display_data"
    }
   ],
   "source": [
    "for i in range(num_samples_of_param):\n",
    "    plt.scatter(x = stored_preds[i, :],\n",
    "                y = y_data,\n",
    "                alpha = 0.002,\n",
    "                color = 'red');"
   ]
  },
  {
   "cell_type": "code",
   "execution_count": 12,
   "metadata": {},
   "outputs": [
    {
     "name": "stdout",
     "output_type": "stream",
     "text": [
      "Loss:  0.09371402114629745\n"
     ]
    }
   ],
   "source": [
    "# Import cross-validation data\n",
    "cv_df = pd.read_csv(\"../tornadoesr/data/raw/tor_cv_set_no_zeros.csv\")\n",
    "\n",
    "# Partition the data\n",
    "cv_outcome = cv_df.iloc[:, [2]].values\n",
    "cv_predictors = cv_df.iloc[:, 3:].values\n",
    "\n",
    "# Set it up\n",
    "y_data = Variable(torch.from_numpy(cv_outcome).type(torch.FloatTensor))\n",
    "x_data = Variable(torch.from_numpy(cv_predictors).type(torch.FloatTensor))\n",
    "\n",
    "# Set it up\n",
    "y_preds = torch.zeros(x_data.shape[0], 1)\n",
    "\n",
    "stored_preds = np.zeros((100, y_data.shape[0]))\n",
    "\n",
    "# Evaluating\n",
    "num_samples_of_param = 100\n",
    "for i in range(num_samples_of_param):\n",
    "    # guide does not require the data\n",
    "    sampled_reg_model = guide(None)\n",
    "    \n",
    "    # run the regression model and add prediction to total\n",
    "    current_y_preds = sampled_reg_model(x_data)\n",
    "    y_preds = y_preds + current_y_preds\n",
    "    \n",
    "    stored_preds[i, :] = current_y_preds.squeeze().data.numpy()\n",
    "    \n",
    "# take the average of the predictions\n",
    "y_preds = y_preds / num_samples_of_param\n",
    "print (\"Loss: \", loss(y_preds, y_data).item())"
   ]
  },
  {
   "cell_type": "code",
   "execution_count": 13,
   "metadata": {},
   "outputs": [
    {
     "data": {
      "image/png": "[encoded data removed]",
      "text/plain": [
       "<matplotlib.figure.Figure at 0x7f9c80ba9128>"
      ]
     },
     "metadata": {},
     "output_type": "display_data"
    }
   ],
   "source": [
    "for i in range(num_samples_of_param):\n",
    "    plt.scatter(x = stored_preds[i, :],\n",
    "                y = y_data,\n",
    "                alpha = 0.002,\n",
    "                color = 'red');"
   ]
  }
 ],
 "metadata": {
  "kernelspec": {
   "display_name": "Python 3",
   "language": "python",
   "name": "python3"
  },
  "language_info": {
   "codemirror_mode": {
    "name": "ipython",
    "version": 3
   },
   "file_extension": ".py",
   "mimetype": "text/x-python",
   "name": "python",
   "nbconvert_exporter": "python",
   "pygments_lexer": "ipython3",
   "version": "3.6.3"
  }
 },
 "nbformat": 4,
 "nbformat_minor": 2
}
