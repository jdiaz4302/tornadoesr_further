{
 "cells": [
  {
   "cell_type": "markdown",
   "metadata": {},
   "source": [
    "<br>\n",
    "This is exploring and modifying PyTorch/Pyro's bayesian regression capabilities; heavily borrowing from their provided example notebook, available at: http://pyro.ai/examples/bayesian_regression.html\n",
    "\n",
    "I'm going to scale up the toy data set size, for learning purposes. Namely, the number of features (1 -> 10) and the number of data points (100 -> 1000)"
   ]
  },
  {
   "cell_type": "markdown",
   "metadata": {},
   "source": [
    "<br>\n",
    "# 1. Regular regression part\n",
    "## Importing the libraries"
   ]
  },
  {
   "cell_type": "code",
   "execution_count": 1,
   "metadata": {},
   "outputs": [],
   "source": [
    "import os\n",
    "import numpy as np\n",
    "import torch\n",
    "import torch.nn as nn\n",
    "\n",
    "import pyro\n",
    "from pyro.distributions import Normal\n",
    "from pyro.infer import SVI, Trace_ELBO\n",
    "from pyro.optim import Adam\n",
    "# for CI testing\n",
    "smoke_test = ('CI' in os.environ)\n",
    "pyro.enable_validation(True)"
   ]
  },
  {
   "cell_type": "markdown",
   "metadata": {},
   "source": [
    "<br>\n",
    "## Defining functions and parameters for creating an experimenting data set"
   ]
  },
  {
   "cell_type": "code",
   "execution_count": 2,
   "metadata": {},
   "outputs": [],
   "source": [
    "N = 1000  # size of toy data\n",
    "\n",
    "def build_linear_dataset(N, p = 10, noise_std=0.01):\n",
    "    X = np.random.rand(N, p)\n",
    "    # w = 3\n",
    "    w = 3 * np.ones(p)\n",
    "    # b = 1\n",
    "    y = np.matmul(X, w) + np.repeat(1, N) + np.random.normal(0, noise_std, size=N)\n",
    "    y = y.reshape(N, 1)\n",
    "    X, y = torch.tensor(X).type(torch.Tensor), torch.tensor(y).type(torch.Tensor)\n",
    "    data = torch.cat((X, y), 1)\n",
    "    assert data.shape == (N, p + 1)\n",
    "    return data"
   ]
  },
  {
   "cell_type": "markdown",
   "metadata": {},
   "source": [
    "<br>\n",
    "## Defining the simple regression model"
   ]
  },
  {
   "cell_type": "code",
   "execution_count": 3,
   "metadata": {},
   "outputs": [],
   "source": [
    "class RegressionModel(nn.Module):\n",
    "    def __init__(self, p):\n",
    "        # p = number of features\n",
    "        super(RegressionModel, self).__init__()\n",
    "        self.linear = nn.Linear(p, 1)\n",
    "\n",
    "    def forward(self, x):\n",
    "        return self.linear(x)\n",
    "\n",
    "regression_model = RegressionModel(10)"
   ]
  },
  {
   "cell_type": "markdown",
   "metadata": {},
   "source": [
    "<br>\n",
    "## Defining the training parameters & function, then training\n",
    "Also printing loss and learned parameters\n",
    "\n",
    "I bumped:\n",
    "1. the number of training epochs from 1000 -> 10000\n",
    "2. the printing freq from 50 -> 250"
   ]
  },
  {
   "cell_type": "code",
   "execution_count": 4,
   "metadata": {},
   "outputs": [
    {
     "name": "stdout",
     "output_type": "stream",
     "text": [
      "[iteration 0250] loss: 107.2048\n",
      "[iteration 0500] loss: 86.0182\n",
      "[iteration 0750] loss: 65.5180\n",
      "[iteration 1000] loss: 47.1410\n",
      "[iteration 1250] loss: 31.7164\n",
      "[iteration 1500] loss: 19.7980\n",
      "[iteration 1750] loss: 11.3895\n",
      "[iteration 2000] loss: 6.0006\n",
      "[iteration 2250] loss: 2.8833\n",
      "[iteration 2500] loss: 1.2704\n",
      "[iteration 2750] loss: 0.5322\n",
      "[iteration 3000] loss: 0.2376\n",
      "[iteration 3250] loss: 0.1367\n",
      "[iteration 3500] loss: 0.1076\n",
      "[iteration 3750] loss: 0.1006\n",
      "[iteration 4000] loss: 0.0993\n",
      "[iteration 4250] loss: 0.0991\n",
      "[iteration 4500] loss: 0.0991\n",
      "[iteration 4750] loss: 0.0991\n",
      "[iteration 5000] loss: 0.0991\n",
      "[iteration 5250] loss: 0.0991\n",
      "[iteration 5500] loss: 0.0991\n",
      "[iteration 5750] loss: 0.0991\n",
      "[iteration 6000] loss: 0.0991\n",
      "[iteration 6250] loss: 0.0991\n",
      "[iteration 6500] loss: 0.0991\n",
      "[iteration 6750] loss: 0.0991\n",
      "[iteration 7000] loss: 0.0991\n",
      "[iteration 7250] loss: 0.0991\n",
      "[iteration 7500] loss: 0.0991\n",
      "[iteration 7750] loss: 0.0991\n",
      "[iteration 8000] loss: 0.0991\n",
      "[iteration 8250] loss: 0.0991\n",
      "[iteration 8500] loss: 0.0991\n",
      "[iteration 8750] loss: 0.0991\n",
      "[iteration 9000] loss: 0.0991\n",
      "[iteration 9250] loss: 0.0991\n",
      "[iteration 9500] loss: 0.0991\n",
      "[iteration 9750] loss: 0.0991\n",
      "[iteration 10000] loss: 0.0991\n",
      "\n",
      "Learned parameters:\n",
      "linear.weight: [[2.998391  2.9995437 2.998412  3.0010252 2.9987311 3.0001738 2.9977195\n",
      "  2.9985023 2.9985788 3.0002744]]\n",
      "linear.bias: [1.0045561]\n"
     ]
    }
   ],
   "source": [
    "# Defining loss\n",
    "loss_fn = torch.nn.MSELoss(size_average = False)\n",
    "# Defining optimizer\n",
    "optim = torch.optim.Adam(regression_model.parameters(), lr = 0.05)\n",
    "# Defining training length\n",
    "num_iterations = 10000 if not smoke_test else 2\n",
    "\n",
    "# Defining function to train\n",
    "def main():\n",
    "    # Generating the data\n",
    "    data = build_linear_dataset(N)\n",
    "    # Defining X\n",
    "    x_data = data[:, :-1]\n",
    "    # Defining Y\n",
    "    y_data = data[:, -1]\n",
    "    # Training loop\n",
    "    for j in range(num_iterations):\n",
    "        # run the model forward on the data\n",
    "        y_pred = regression_model(x_data).squeeze(-1)\n",
    "        # calculate the mse loss\n",
    "        loss = loss_fn(y_pred, y_data)\n",
    "        # initialize gradients to zero\n",
    "        optim.zero_grad()\n",
    "        # backpropagate\n",
    "        loss.backward()\n",
    "        # take a gradient step\n",
    "        optim.step()\n",
    "        # Print loss every 50 iterations\n",
    "        if (j + 1) % 250 == 0:\n",
    "            print(\"[iteration %04d] loss: %.4f\" % (j + 1, loss.item()))\n",
    "    # Inspect learned parameters\n",
    "    print(\"\\nLearned parameters:\")\n",
    "    for name, param in regression_model.named_parameters():\n",
    "        print(\"%s: \" % (name) + str(param.data.numpy()))\n",
    "\n",
    "if __name__ == '__main__':\n",
    "    main()"
   ]
  },
  {
   "cell_type": "markdown",
   "metadata": {},
   "source": [
    "The true (generated) parameters were 3 and 1, with a noise of $\\sigma = 0.01$"
   ]
  },
  {
   "cell_type": "markdown",
   "metadata": {},
   "source": [
    "**Possible typos in Pyro documentation**:\n",
    "\n",
    "1. They say that $\\sigma = 0.1$\n",
    "2. They say they used a learning rate of $0.01$\n",
    "2. They say they train for $500$ iterations\n",
    "\n",
    "None of the above seem to agree with their code"
   ]
  },
  {
   "cell_type": "markdown",
   "metadata": {},
   "source": [
    "# 2. Bayesian part"
   ]
  },
  {
   "cell_type": "markdown",
   "metadata": {},
   "source": [
    "Minimally modified from Pyro's documentation:\n",
    "\n",
    "`random_module()` effectively takes a given `nn.Module` (from PyTorch) and turns it into a distribution over the same module; in our case, this will be a distribution over regressors. Specifically, each parameter in the original regression model is sampled from the provided prior. This allows us to repurpose vanilla regression models for use in the Bayesian setting.\n",
    "\n",
    "## Toy example - simpler than the next header's"
   ]
  },
  {
   "cell_type": "code",
   "execution_count": 5,
   "metadata": {},
   "outputs": [],
   "source": [
    "# Defining a standard normal distribution prior\n",
    "# We need to feed the distribution tensors, rather than ints/floats\n",
    "loc = torch.zeros(1, 1)\n",
    "scale = torch.ones(1, 1)\n",
    "# Recall that \"Normal\" is from pyro.distributions\n",
    "prior = Normal(loc, scale)\n",
    "\n",
    "# overload the parameters in the regression module with samples from the prior\n",
    "Bayesian_Model = pyro.random_module(\"abitrary_name\",\n",
    "                                     regression_model,     # The PyTorch model\n",
    "                                     prior)                # The Pyro prior\n",
    "# sample a regressor from the prior\n",
    "sampled_reg_model = Bayesian_Model()"
   ]
  },
  {
   "cell_type": "markdown",
   "metadata": {},
   "source": [
    "<br>\n",
    "## Defining the model, which we will train\n",
    "Another possible code comment typo: their comments say unit normal"
   ]
  },
  {
   "cell_type": "code",
   "execution_count": 6,
   "metadata": {},
   "outputs": [],
   "source": [
    "def model(data):\n",
    "    \n",
    "    # Create wide normal priors - mu = 0, sigma = 10\n",
    "    # For the weight, defining mu and sigma\n",
    "    loc1, scale1 = torch.zeros(1, 1), 10 * torch.ones(1, 1)\n",
    "    loc2, scale2 = torch.zeros(1, 1), 10 * torch.ones(1, 1)\n",
    "    loc3, scale3 = torch.zeros(1, 1), 10 * torch.ones(1, 1)\n",
    "    loc4, scale4 = torch.zeros(1, 1), 10 * torch.ones(1, 1)\n",
    "    loc5, scale5 = torch.zeros(1, 1), 10 * torch.ones(1, 1)\n",
    "    loc6, scale6 = torch.zeros(1, 1), 10 * torch.ones(1, 1)\n",
    "    loc7, scale7 = torch.zeros(1, 1), 10 * torch.ones(1, 1)\n",
    "    loc8, scale8 = torch.zeros(1, 1), 10 * torch.ones(1, 1)\n",
    "    loc9, scale9 = torch.zeros(1, 1), 10 * torch.ones(1, 1)\n",
    "    loc10, scale10 = torch.zeros(1, 1), 10 * torch.ones(1, 1)\n",
    "    # For the bias, defining mu and sigma\n",
    "    bias_loc, bias_scale = torch.zeros(1), 10 * torch.ones(1)\n",
    "    # For the weight, creating and assigning the prior distribution\n",
    "    w_prior1 = Normal(loc1, scale1).independent(1)\n",
    "    w_prior2 = Normal(loc2, scale2).independent(1)\n",
    "    w_prior3 = Normal(loc3, scale3).independent(1)\n",
    "    w_prior4 = Normal(loc4, scale4).independent(1)\n",
    "    w_prior5 = Normal(loc5, scale5).independent(1)\n",
    "    w_prior6 = Normal(loc6, scale6).independent(1)\n",
    "    w_prior7 = Normal(loc7, scale7).independent(1)\n",
    "    w_prior8 = Normal(loc8, scale8).independent(1)\n",
    "    w_prior9 = Normal(loc9, scale9).independent(1)\n",
    "    w_prior10 = Normal(loc10, scale10).independent(1)\n",
    "    # For the bias, creating and assigning the prior distribution\n",
    "    b_prior = Normal(bias_loc, bias_scale).independent(1)\n",
    "    \n",
    "    # Putting those into a dictionary\n",
    "    priors = {'linear.weight1': w_prior1,\n",
    "              'linear.weight2': w_prior2,\n",
    "              'linear.weight3': w_prior3,\n",
    "              'linear.weight4': w_prior4,\n",
    "              'linear.weight5': w_prior5,\n",
    "              'linear.weight6': w_prior6,\n",
    "              'linear.weight7': w_prior7,\n",
    "              'linear.weight8': w_prior8,\n",
    "              'linear.weight9': w_prior9,\n",
    "              'linear.weight10': w_prior10,\n",
    "              'linear.bias': b_prior}\n",
    "    \n",
    "    # lift module parameters to random variables sampled from the priors\n",
    "    # This is like creating the nn.Module (analogy to PyTorch)\n",
    "    lifted_module = pyro.random_module(\"module\", regression_model, priors)\n",
    "    # sample a regressor (which also samples w and b)\n",
    "    # This is like calling the nn.Module (analogy to PyTorch)\n",
    "    lifted_reg_model = lifted_module()\n",
    "    \n",
    "    with pyro.iarange(\"map\", N):\n",
    "        x_data = data[:, :-1]\n",
    "        y_data = data[:, -1]\n",
    "\n",
    "        # run the regressor forward conditioned on data\n",
    "        prediction_mean = lifted_reg_model(x_data).squeeze(-1)\n",
    "        # condition on the observed data\n",
    "        pyro.sample(\"obs\",\n",
    "                    Normal(prediction_mean, 0.1 * torch.ones(data.size(0))),\n",
    "                    obs=y_data)"
   ]
  },
  {
   "cell_type": "code",
   "execution_count": 7,
   "metadata": {},
   "outputs": [],
   "source": [
    "softplus = torch.nn.Softplus()\n",
    "\n",
    "def guide(data):\n",
    "    # define our variational parameters\n",
    "    w_loc1 = torch.randn(1, 1)\n",
    "    w_loc2 = torch.randn(1, 1)\n",
    "    w_loc3 = torch.randn(1, 1)\n",
    "    w_loc4 = torch.randn(1, 1)\n",
    "    w_loc5 = torch.randn(1, 1)\n",
    "    w_loc6 = torch.randn(1, 1)\n",
    "    w_loc7 = torch.randn(1, 1)\n",
    "    w_loc8 = torch.randn(1, 1)\n",
    "    w_loc9 = torch.randn(1, 1)\n",
    "    w_loc10 = torch.randn(1, 1)\n",
    "    # note that we initialize our scales to be pretty narrow\n",
    "    w_log_sig1 = torch.tensor(-3.0 * torch.ones(1, 1) + 0.05 * torch.randn(1, 1))\n",
    "    w_log_sig2 = torch.tensor(-3.0 * torch.ones(1, 1) + 0.05 * torch.randn(1, 1))\n",
    "    w_log_sig3 = torch.tensor(-3.0 * torch.ones(1, 1) + 0.05 * torch.randn(1, 1))\n",
    "    w_log_sig4 = torch.tensor(-3.0 * torch.ones(1, 1) + 0.05 * torch.randn(1, 1))\n",
    "    w_log_sig5 = torch.tensor(-3.0 * torch.ones(1, 1) + 0.05 * torch.randn(1, 1))\n",
    "    w_log_sig6 = torch.tensor(-3.0 * torch.ones(1, 1) + 0.05 * torch.randn(1, 1))\n",
    "    w_log_sig7 = torch.tensor(-3.0 * torch.ones(1, 1) + 0.05 * torch.randn(1, 1))\n",
    "    w_log_sig8 = torch.tensor(-3.0 * torch.ones(1, 1) + 0.05 * torch.randn(1, 1))\n",
    "    w_log_sig9 = torch.tensor(-3.0 * torch.ones(1, 1) + 0.05 * torch.randn(1, 1))\n",
    "    w_log_sig10 = torch.tensor(-3.0 * torch.ones(1, 1) + 0.05 * torch.randn(1, 1))\n",
    "    b_loc = torch.randn(1)\n",
    "    b_log_sig = torch.tensor(-3.0 * torch.ones(1) + 0.05 * torch.randn(1))\n",
    "    # register learnable params in the param store\n",
    "    mw_param1 = pyro.param(\"guide_mean_weight1\", w_loc1)\n",
    "    sw_param1 = softplus(pyro.param(\"guide_log_scale_weight1\", w_log_sig1))\n",
    "    mw_param2 = pyro.param(\"guide_mean_weight2\", w_loc2)  \n",
    "    sw_param2 = softplus(pyro.param(\"guide_log_scale_weight2\", w_log_sig2))\n",
    "    mw_param3 = pyro.param(\"guide_mean_weight3\", w_loc3)\n",
    "    sw_param3 = softplus(pyro.param(\"guide_log_scale_weight3\", w_log_sig3))\n",
    "    mw_param4 = pyro.param(\"guide_mean_weight4\", w_loc4)\n",
    "    sw_param4 = softplus(pyro.param(\"guide_log_scale_weight4\", w_log_sig4))\n",
    "    mw_param5 = pyro.param(\"guide_mean_weight5\", w_loc5)\n",
    "    sw_param5 = softplus(pyro.param(\"guide_log_scale_weight5\", w_log_sig5))\n",
    "    mw_param6 = pyro.param(\"guide_mean_weight6\", w_loc6)\n",
    "    sw_param6 = softplus(pyro.param(\"guide_log_scale_weight6\", w_log_sig6))\n",
    "    mw_param7 = pyro.param(\"guide_mean_weight7\", w_loc7)\n",
    "    sw_param7 = softplus(pyro.param(\"guide_log_scale_weight7\", w_log_sig7))\n",
    "    mw_param8 = pyro.param(\"guide_mean_weight8\", w_loc8)\n",
    "    sw_param8 = softplus(pyro.param(\"guide_log_scale_weight8\", w_log_sig8))\n",
    "    mw_param9 = pyro.param(\"guide_mean_weight9\", w_loc9)\n",
    "    sw_param9 = softplus(pyro.param(\"guide_log_scale_weight9\", w_log_sig9))\n",
    "    mw_param10 = pyro.param(\"guide_mean_weight10\", w_loc10)\n",
    "    sw_param10 = softplus(pyro.param(\"guide_log_scale_weight10\", w_log_sig10))\n",
    "    mb_param = pyro.param(\"guide_mean_bias\", b_loc)\n",
    "    sb_param = softplus(pyro.param(\"guide_log_scale_bias\", b_log_sig))\n",
    "    # guide distributions for w and b\n",
    "    w_dist1 = Normal(mw_param1, sw_param1).independent(1)\n",
    "    w_dist2 = Normal(mw_param2, sw_param2).independent(1)\n",
    "    w_dist3 = Normal(mw_param3, sw_param3).independent(1)\n",
    "    w_dist4 = Normal(mw_param4, sw_param4).independent(1)\n",
    "    w_dist5 = Normal(mw_param5, sw_param5).independent(1)\n",
    "    w_dist6 = Normal(mw_param6, sw_param6).independent(1)\n",
    "    w_dist7 = Normal(mw_param7, sw_param7).independent(1)\n",
    "    w_dist8 = Normal(mw_param8, sw_param8).independent(1)\n",
    "    w_dist9 = Normal(mw_param9, sw_param9).independent(1)\n",
    "    w_dist10 = Normal(mw_param10, sw_param10).independent(1)\n",
    "    b_dist = Normal(mb_param, sb_param).independent(1)\n",
    "    dists = {'linear.weight1': w_dist1,\n",
    "             'linear.weight2': w_dist2,\n",
    "             'linear.weight3': w_dist3,\n",
    "             'linear.weight4': w_dist4,\n",
    "             'linear.weight5': w_dist5,\n",
    "             'linear.weight6': w_dist6,\n",
    "             'linear.weight7': w_dist7,\n",
    "             'linear.weight8': w_dist8,\n",
    "             'linear.weight9': w_dist9,\n",
    "             'linear.weight10': w_dist10,\n",
    "             'linear.bias': b_dist}\n",
    "    # overload the parameters in the module with random samples\n",
    "    # from the guide distributions\n",
    "    lifted_module = pyro.random_module(\"module\", regression_model, dists)\n",
    "    # sample a regressor (which also samples w and b)\n",
    "    return lifted_module()"
   ]
  },
  {
   "cell_type": "code",
   "execution_count": 8,
   "metadata": {},
   "outputs": [],
   "source": [
    "optim = Adam({\"lr\": 0.05})\n",
    "svi = SVI(model, guide, optim, loss=Trace_ELBO())"
   ]
  },
  {
   "cell_type": "code",
   "execution_count": 9,
   "metadata": {},
   "outputs": [
    {
     "name": "stdout",
     "output_type": "stream",
     "text": [
      "[iteration 1.000000] loss: 162.1105\n",
      "[iteration 251.000000] loss: -0.9727\n",
      "[iteration 501.000000] loss: -1.3658\n",
      "[iteration 751.000000] loss: -1.3460\n",
      "[iteration 1001.000000] loss: -1.3704\n",
      "[iteration 1251.000000] loss: -1.3631\n",
      "[iteration 1501.000000] loss: -1.3712\n",
      "[iteration 1751.000000] loss: -1.3580\n",
      "[iteration 2001.000000] loss: -1.3712\n",
      "[iteration 2251.000000] loss: -1.3588\n",
      "[iteration 2501.000000] loss: -1.3596\n",
      "[iteration 2751.000000] loss: -1.3706\n",
      "[iteration 3001.000000] loss: -1.3650\n",
      "[iteration 3251.000000] loss: -1.3714\n",
      "[iteration 3501.000000] loss: -1.3643\n",
      "[iteration 3751.000000] loss: -1.3691\n",
      "[iteration 4001.000000] loss: -1.3688\n",
      "[iteration 4251.000000] loss: -1.3639\n",
      "[iteration 4501.000000] loss: -1.3530\n",
      "[iteration 4751.000000] loss: -1.3612\n",
      "[iteration 5001.000000] loss: -1.3574\n",
      "[iteration 5251.000000] loss: -1.3429\n",
      "[iteration 5501.000000] loss: -1.3681\n",
      "[iteration 5751.000000] loss: -1.3680\n",
      "[iteration 6001.000000] loss: -1.3677\n",
      "[iteration 6251.000000] loss: -1.3671\n",
      "[iteration 6501.000000] loss: -1.3372\n",
      "[iteration 6751.000000] loss: -1.3677\n",
      "[iteration 7001.000000] loss: -1.3403\n",
      "[iteration 7251.000000] loss: -1.3459\n",
      "[iteration 7501.000000] loss: -1.3706\n",
      "[iteration 7751.000000] loss: -1.3699\n",
      "[iteration 8001.000000] loss: -1.3698\n",
      "[iteration 8251.000000] loss: -1.3700\n",
      "[iteration 8501.000000] loss: -1.3689\n",
      "[iteration 8751.000000] loss: -1.3572\n",
      "[iteration 9001.000000] loss: -1.3578\n",
      "[iteration 9251.000000] loss: -1.3606\n",
      "[iteration 9501.000000] loss: -1.3656\n",
      "[iteration 9751.000000] loss: -1.3678\n"
     ]
    }
   ],
   "source": [
    "def main():\n",
    "    pyro.clear_param_store()\n",
    "    data = build_linear_dataset(N)\n",
    "    for j in range(num_iterations):\n",
    "        # calculate the loss and take a gradient step\n",
    "        loss = svi.step(data)\n",
    "        if (j) % 250 == 0:\n",
    "            print(\"[iteration %04f] loss: %.4f\" % ((j+1), loss / float(N)))\n",
    "\n",
    "if __name__ == '__main__':\n",
    "    main()"
   ]
  },
  {
   "cell_type": "code",
   "execution_count": 10,
   "metadata": {},
   "outputs": [
    {
     "name": "stdout",
     "output_type": "stream",
     "text": [
      "[guide_mean_weight1]: [[0.38164145]]\n",
      "[guide_log_scale_weight1]: [[-2.9783652]]\n",
      "[guide_mean_weight2]: [[-0.09637374]]\n",
      "[guide_log_scale_weight2]: [[-3.0471041]]\n",
      "[guide_mean_weight3]: [[-1.396597]]\n",
      "[guide_log_scale_weight3]: [[-3.007582]]\n",
      "[guide_mean_weight4]: [[0.8299429]]\n",
      "[guide_log_scale_weight4]: [[-3.0204463]]\n",
      "[guide_mean_weight5]: [[-1.4282409]]\n",
      "[guide_log_scale_weight5]: [[-3.0169454]]\n",
      "[guide_mean_weight6]: [[-1.0564986]]\n",
      "[guide_log_scale_weight6]: [[-3.0394912]]\n",
      "[guide_mean_weight7]: [[0.33928502]]\n",
      "[guide_log_scale_weight7]: [[-2.9134922]]\n",
      "[guide_mean_weight8]: [[0.5257805]]\n",
      "[guide_log_scale_weight8]: [[-2.9970658]]\n",
      "[guide_mean_weight9]: [[0.46341905]]\n",
      "[guide_log_scale_weight9]: [[-3.0564148]]\n",
      "[guide_mean_weight10]: [[0.043645]]\n",
      "[guide_log_scale_weight10]: [[-2.9418678]]\n",
      "[guide_mean_bias]: [1.0009319]\n",
      "[guide_log_scale_bias]: [-5.9051294]\n",
      "[module$$$linear.weight]: [[2.9998455 3.0000665 2.998335  2.9987602 3.000027  2.997674  2.9994624\n",
      "  2.9990997 2.9985225 3.0002964]]\n"
     ]
    }
   ],
   "source": [
    "for name in pyro.get_param_store().get_all_param_names():\n",
    "    print(\"[%s]: \" % (name) + str(pyro.param(name).data.numpy()))"
   ]
  },
  {
   "cell_type": "code",
   "execution_count": 11,
   "metadata": {
    "scrolled": true
   },
   "outputs": [
    {
     "data": {
      "text/plain": [
       "array([6.        , 6.05263158, 6.10526316, 6.15789474, 6.21052632,\n",
       "       6.26315789, 6.31578947, 6.36842105, 6.42105263, 6.47368421,\n",
       "       6.52631579, 6.57894737, 6.63157895, 6.68421053, 6.73684211,\n",
       "       6.78947368, 6.84210526, 6.89473684, 6.94736842, 7.        ])"
      ]
     },
     "execution_count": 11,
     "metadata": {},
     "output_type": "execute_result"
    }
   ],
   "source": [
    "np.linspace(6, 7, num=20)"
   ]
  },
  {
   "cell_type": "code",
   "execution_count": 12,
   "metadata": {},
   "outputs": [
    {
     "name": "stdout",
     "output_type": "stream",
     "text": [
      "Loss:  0.002657769713550806\n"
     ]
    }
   ],
   "source": [
    "X1 = np.linspace(6, 7, num=20)\n",
    "X2 = np.linspace(6, 7, num=20)\n",
    "X3 = np.linspace(6, 7, num=20)\n",
    "X4 = np.linspace(6, 7, num=20)\n",
    "X5 = np.linspace(6, 7, num=20)\n",
    "X6 = np.linspace(6, 7, num=20)\n",
    "X7 = np.linspace(6, 7, num=20)\n",
    "X8 = np.linspace(6, 7, num=20)\n",
    "X9 = np.linspace(6, 7, num=20)\n",
    "X10 = np.linspace(6, 7, num=20)\n",
    "\n",
    "\n",
    "y = (3 * X1) + (3 * X2) +(3 * X3) +(3 * X4) +(3 * X5) +(3 * X6) +(3 * X7) +(3 * X8) +(3 * X9) +(3 * X10) + 1\n",
    "X1, X2, X3, X4, X5, X6, X7, X8, X9, X10, y = X1.reshape((20, 1)), X2.reshape((20, 1)), X3.reshape((20, 1)), X4.reshape((20, 1)), X5.reshape((20, 1)), X6.reshape((20, 1)), X7.reshape((20, 1)), X8.reshape((20, 1)), X9.reshape((20, 1)), X10.reshape((20, 1)), y.reshape((20, 1))\n",
    "x_data1, x_data2, x_data3, x_data4, x_data5, x_data6, x_data7, x_data8, x_data9, x_data10, y_data = torch.tensor(X1).type(torch.Tensor), torch.tensor(X2).type(torch.Tensor), torch.tensor(X3).type(torch.Tensor), torch.tensor(X4).type(torch.Tensor), torch.tensor(X5).type(torch.Tensor), torch.tensor(X6).type(torch.Tensor), torch.tensor(X7).type(torch.Tensor), torch.tensor(X8).type(torch.Tensor), torch.tensor(X9).type(torch.Tensor), torch.tensor(X10).type(torch.Tensor), torch.tensor(y).type(torch.Tensor)\n",
    "loss = nn.MSELoss()\n",
    "y_preds = torch.zeros(20, 1)\n",
    "for i in range(20):\n",
    "    # guide does not require the data\n",
    "    sampled_reg_model = guide(None)\n",
    "    \n",
    "    x_data = torch.cat((x_data1, x_data2, x_data3, x_data4, x_data5,\n",
    "                        x_data6, x_data7, x_data8, x_data9, x_data10),\n",
    "                       dim = 1)\n",
    "    \n",
    "    # run the regression model and add prediction to total\n",
    "    y_preds = y_preds + sampled_reg_model(x_data)\n",
    "# take the average of the predictions\n",
    "y_preds = y_preds / 20\n",
    "print (\"Loss: \", loss(y_preds, y_data).item())"
   ]
  },
  {
   "cell_type": "code",
   "execution_count": null,
   "metadata": {},
   "outputs": [],
   "source": []
  }
 ],
 "metadata": {
  "kernelspec": {
   "display_name": "Python 3",
   "language": "python",
   "name": "python3"
  },
  "language_info": {
   "codemirror_mode": {
    "name": "ipython",
    "version": 3
   },
   "file_extension": ".py",
   "mimetype": "text/x-python",
   "name": "python",
   "nbconvert_exporter": "python",
   "pygments_lexer": "ipython3",
   "version": "3.6.3"
  }
 },
 "nbformat": 4,
 "nbformat_minor": 2
}
